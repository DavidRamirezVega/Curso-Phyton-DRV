{
 "cells": [
  {
   "cell_type": "markdown",
   "metadata": {},
   "source": [
    "#Ejercicio1 - Utilizar operadores aritméticos"
   ]
  },
  {
   "cell_type": "markdown",
   "metadata": {},
   "source": [
    " Tierra (149597870 km) y Júpiter (778547200 km)."
   ]
  },
  {
   "cell_type": "code",
   "execution_count": 54,
   "metadata": {},
   "outputs": [
    {
     "name": "stdout",
     "output_type": "stream",
     "text": [
      "La distancia entre la Tierra y Júpiter es de 628949330 kms y 390577534 mi.\n"
     ]
    }
   ],
   "source": [
    "from math import ceil\n",
    "tierra= int (149597870)\n",
    "jupiter= int (778547200)\n",
    "tjkms=abs(tierra-jupiter)\n",
    "tjmi=ceil(tjkms*0.621)\n",
    "print('La distancia entre la Tierra y Júpiter es de '+ str(tjkms) +' kms y '+ str(tjmi) +' mi.')"
   ]
  },
  {
   "cell_type": "markdown",
   "metadata": {},
   "source": [
    "#Ejercicio 2: convierte cadenas en números y usa valores absolutos"
   ]
  },
  {
   "cell_type": "markdown",
   "metadata": {},
   "source": [
    "Planeta\tDistancia al sol\n",
    "\n",
    "*Mercurio\t57900000\n",
    "\n",
    "*Venus\t    108200000\n",
    "\n",
    "*Tierra\t    149600000\n",
    "\n",
    "*Marte\t    227900000\n",
    "\n",
    "*Júpiter\t778600000\n",
    "\n",
    "*Saturno\t1433500000\n",
    "\n",
    "*Urano      2872500000\n",
    "\n",
    "*Neptuno    4495100000"
   ]
  },
  {
   "cell_type": "code",
   "execution_count": 60,
   "metadata": {},
   "outputs": [
    {
     "name": "stdout",
     "output_type": "stream",
     "text": [
      "La distancia (en kms) entre los planetas es de: 628949330 kms.\n",
      "La distancia (en millas) entre los planetas es de: 390577533 mi.\n"
     ]
    }
   ],
   "source": [
    "from math import floor\n",
    "planeta1 = input(\"Ingresa la distancia en kms, del primer planeta respecto al Sol:\")\n",
    "planeta1 = int (planeta1)\n",
    "planeta2 = input(\"Ingresa la distancia en kms, del segundo planeta respecto al Sol:\")\n",
    "planeta2 = int (planeta2)\n",
    "p1p2kms=abs(planeta1-planeta2)\n",
    "p1p2mi=floor(p1p2kms*0.621)\n",
    "print ('La distancia (en kms) entre los planetas es de: '+ str(p1p2kms)+' kms.')\n",
    "print ('La distancia (en millas) entre los planetas es de: '+ str(p1p2mi)+' mi.')"
   ]
  }
 ],
 "metadata": {
  "interpreter": {
   "hash": "96cd9890feeb6d3562a1a9f6ae301eefaa090fbb68ebc1ef6ed2d043dbbc2cee"
  },
  "kernelspec": {
   "display_name": "Python 3.10.2 64-bit",
   "language": "python",
   "name": "python3"
  },
  "language_info": {
   "codemirror_mode": {
    "name": "ipython",
    "version": 3
   },
   "file_extension": ".py",
   "mimetype": "text/x-python",
   "name": "python",
   "nbconvert_exporter": "python",
   "pygments_lexer": "ipython3",
   "version": "3.10.2"
  },
  "orig_nbformat": 4
 },
 "nbformat": 4,
 "nbformat_minor": 2
}
