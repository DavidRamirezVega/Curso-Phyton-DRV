{
 "cells": [
  {
   "cell_type": "markdown",
   "metadata": {},
   "source": [
    "    Ejercicio1: Crear y usar listas de Python\n",
    "    Ejercicio: Usar listas para almacenar nombres de planetas"
   ]
  },
  {
   "cell_type": "code",
   "execution_count": 75,
   "metadata": {},
   "outputs": [
    {
     "name": "stdout",
     "output_type": "stream",
     "text": [
      "Existen 8 planetas en el sistema solar.\n"
     ]
    }
   ],
   "source": [
    "planets = ['Mercurio', 'Venus', 'Tierra', 'Marte', 'Jupiter', 'Saturno', 'Urano', 'Neptuno']\n",
    "num_planets=len(planets)\n",
    "print('Existen',num_planets,'planetas en el sistema solar.')"
   ]
  },
  {
   "cell_type": "code",
   "execution_count": 76,
   "metadata": {},
   "outputs": [
    {
     "name": "stdout",
     "output_type": "stream",
     "text": [
      "El número de planetas en el sistema solar son 9 y Pluton es el último planeta.\n"
     ]
    }
   ],
   "source": [
    "planets.append('Pluton')\n",
    "num_planets = len(planets)\n",
    "print('El número de planetas en el sistema solar son', num_planets, 'y', planets[-1], 'es el último planeta.' )"
   ]
  },
  {
   "cell_type": "markdown",
   "metadata": {},
   "source": [
    "    Ejercicio 2: Trabajando con datos de una lista\n",
    "    Usar slices para recuperar partes de una lista"
   ]
  },
  {
   "cell_type": "code",
   "execution_count": 3,
   "metadata": {},
   "outputs": [
    {
     "name": "stdout",
     "output_type": "stream",
     "text": [
      "Mercurio es el planeta número 1 del sistema solar.\n",
      "No existen planetas más cercanos al Sol, Mercurio es el planeta más cercano al astro rey.\n",
      "Existen 7 planetas más alejados al Sol antes que el planeta Mercurio , los cuales son: ['Venus', 'Tierra', 'Marte', 'Jupiter', 'Saturno', 'Urano', 'Neptuno']\n"
     ]
    }
   ],
   "source": [
    "planets = ['Mercurio', 'Venus', 'Tierra', 'Marte', 'Jupiter', 'Saturno', 'Urano', 'Neptuno']\n",
    "buscar_planeta = input(\"Ingresa el nombre del planeta en español, sin acentos e iniciando la primer letra en mayúscula:\")\n",
    "buscar_planeta_index = planets.index(buscar_planeta)\n",
    "# Busca el planeta en la lista\n",
    "print( buscar_planeta, 'es el planeta número', buscar_planeta_index + 1, 'del sistema solar.')\n",
    "# Muestra los planetas más cercanos al Sol\n",
    "planetas_antes_buscar_planeta = planets[0:buscar_planeta_index]\n",
    "# Muestra los planetas más lejanos al sol\n",
    "planetas_despues_buscar_planeta = planets[buscar_planeta_index+1:]\n",
    "if buscar_planeta_index>0 and buscar_planeta_index<7:\n",
    "    print( 'Existen', buscar_planeta_index, 'planetas más cercanos al Sol antes que el planeta', buscar_planeta, ', los cuales son:', planetas_antes_buscar_planeta)\n",
    "    print( 'Existen', abs(buscar_planeta_index-7), 'planetas más alejados al Sol antes que el planeta', buscar_planeta, ', los cuales son:', planetas_despues_buscar_planeta)\n",
    "elif buscar_planeta_index==7:\n",
    "    print( 'Existen', buscar_planeta_index, 'planetas más cercanos al Sol antes que el planeta', buscar_planeta, ', los cuales son:', planetas_antes_buscar_planeta)\n",
    "    print('No existen planetas más alejados al Sol,', buscar_planeta, 'es el planeta más alejado al astro rey.')\n",
    "else:\n",
    "    print('No existen planetas más cercanos al Sol,', buscar_planeta,'es el planeta más cercano al astro rey.')\n",
    "    print( 'Existen', abs(buscar_planeta_index-7), 'planetas más alejados al Sol antes que el planeta', buscar_planeta, ', los cuales son:', planetas_despues_buscar_planeta)\n"
   ]
  }
 ],
 "metadata": {
  "interpreter": {
   "hash": "96cd9890feeb6d3562a1a9f6ae301eefaa090fbb68ebc1ef6ed2d043dbbc2cee"
  },
  "kernelspec": {
   "display_name": "Python 3.10.2 64-bit",
   "language": "python",
   "name": "python3"
  },
  "language_info": {
   "codemirror_mode": {
    "name": "ipython",
    "version": 3
   },
   "file_extension": ".py",
   "mimetype": "text/x-python",
   "name": "python",
   "nbconvert_exporter": "python",
   "pygments_lexer": "ipython3",
   "version": "3.10.2"
  },
  "orig_nbformat": 4
 },
 "nbformat": 4,
 "nbformat_minor": 2
}
