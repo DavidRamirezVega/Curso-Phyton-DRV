{
 "cells": [
  {
   "cell_type": "markdown",
   "metadata": {},
   "source": [
    "# Ejercicio - Escribir declaraciones if, else, y elif"
   ]
  },
  {
   "cell_type": "markdown",
   "metadata": {},
   "source": [
    "Para este ejercicio, escribirás una lógica condicional que imprima una advertencia si un asteroide se acerca a la Tierra demasiado rápido. La velocidad del asteroide varía dependiendo de lo cerca que esté del sol, y cualquier velocidad superior a 25 kilómetros por segundo (km/s) merece una advertencia.\n",
    "\n",
    "Un asteroide se acerca, y viaja a una velocidad de 49 km/s.\n",
    "\n",
    " Añadir el código necesario para crear una variable que guarde la velocidad del asteroide.\n",
    " Escribe una expresión de prueba para calcular si necesita una advertencia.\n",
    " Agregue las instrucciones que se ejecutarán si la expresión de prueba es true o false."
   ]
  },
  {
   "cell_type": "code",
   "execution_count": 51,
   "metadata": {},
   "outputs": [
    {
     "name": "stdout",
     "output_type": "stream",
     "text": [
      "Si lees éste mensaje es porque el asteroide va a 25km/h o más, hemos determinado que la velocidad actual del mismo es de 25km/h, abraza a tus seres queridos.\n"
     ]
    }
   ],
   "source": [
    "va = input(\"¿A que velocidad viene el asteroide?\")\n",
    "va = int (va)\n",
    "if va >= 25:\n",
    "    print ('Si lees éste mensaje es porque el asteroide va a 25km/s o más, hemos determinado que la velocidad actual del mismo es de ' + str(va) + 'km/s, abraza a tus seres queridos.')\n",
    "else:\n",
    "    print ('Se acerca un asteroide a la tierra a menos de 25km/s, la velocidad a la que se acerca es de ' + str(va) + 'km/s, no hay de que preocuparse.')"
   ]
  },
  {
   "cell_type": "markdown",
   "metadata": {},
   "source": [
    "Si un asteroide entra en la atmósfera de la Tierra a una velocidad mayor o igual a 20 km/s, a veces produce un rayo de luz que se puede ver desde la Tierra. Escribe la lógica condicional que usa declaraciones if, else, y elif para alertar a las personas de todo el mundo que deben buscar un asteroide en el cielo. ¡Hay uno que se dirige a la tierra ahora a una velocidad de 19 km/s!\n",
    "\n",
    " Agrega el código para crear una variable para un asteroide que viaja a 19 km/s\n",
    " Escribe varias expresiones de prueba para determinar si puedes ver el rayo de luz desde la tierra\n",
    " Agrega las instrucciones que se ejecutarán si las expresiones de prueba son True o False"
   ]
  },
  {
   "cell_type": "code",
   "execution_count": 63,
   "metadata": {},
   "outputs": [
    {
     "name": "stdout",
     "output_type": "stream",
     "text": [
      "¡Ya casi se ve el asteroide! si éste incrementa 1km/s más podría verse, actualmente va a una velocidad de 19km/s\n"
     ]
    }
   ],
   "source": [
    "va = input(\"¿A que velocidad (km/s) viene el asteroide?\")\n",
    "va = int (va)\n",
    "if va == 19:\n",
    "    print ('¡Ya casi se ve el asteroide! si éste incrementa 1km/s más podría verse, actualmente va a una velocidad de ' +str(va) +'km/s.')\n",
    "elif va >= 20:\n",
    "    print ('¡Voltea al cielo! ese rayo de luz es el asteroide que va a ' +str(va) +'km/s.')\n",
    "else:\n",
    "    print ('No hay nada en el cielo, ¡esa luz que brilla eres tú! sigue así amigo.')"
   ]
  },
  {
   "cell_type": "markdown",
   "metadata": {},
   "source": [
    "# Ejercicio: Uso de operadores and y or\n"
   ]
  },
  {
   "cell_type": "markdown",
   "metadata": {},
   "source": [
    "Premisas:\n",
    "\n",
    "-Los asteroides de menos de 25 metros en su dimensión más grande probablemente se quemarán a medida que entren en la atmósfera de la Tierra.\n",
    "\n",
    "-Si una pieza de un asteroide que es más grande que 25 metros pero más pequeña que 1,000 metros golpeara la Tierra, causaría mucho daño.\n",
    "\n",
    "-La velocidad del asteroide varía en función de lo cerca que esté del sol, y cualquier velocidad superior a 25 kilómetros por segundo (km/s) merece una advertencia.\n",
    "\n",
    "-Si un asteroide entra en la atmósfera de la Tierra a una velocidad mayor o igual a 20 km/s, a veces produce un rayo de luz que se puede ver desde la Tierra."
   ]
  },
  {
   "cell_type": "markdown",
   "metadata": {},
   "source": [
    "* Si el tamaño es entre 0 y 25 metros, no hay daño.\n",
    "* Si el tamaño es entre 26 y 999 metros, es probable que cause mucho daño.\n",
    "* Si el tamaño es de 1,000 o más metros, estamos muertos.\n",
    "* Si la velocidad es mayor a 25km/s se debe de advertir.\n",
    "* Si la velocidad es igual o mayor a 20km/s se verá un rayo de luz."
   ]
  },
  {
   "cell_type": "code",
   "execution_count": 106,
   "metadata": {},
   "outputs": [
    {
     "name": "stdout",
     "output_type": "stream",
     "text": [
      "¡Cuidado! se acerca un asteroide a una velocidad de 26km/s.\n"
     ]
    }
   ],
   "source": [
    "va = input(\"¿A que velocidad (km/s) viene el asteroide?\")\n",
    "va = int (va)\n",
    "ta = input(\"¿Qué tamaño (metros) tiene el asteroide?\")\n",
    "ta = int (ta)\n",
    "if ta <= 25 and va <= 19:\n",
    "    print ('Todo sereno moreno, no hay nada en el cielo')\n",
    "elif va >= 20 and va <= 24 and ta <=500:\n",
    "    print ('¡Voltea al cielo! ese rayo de luz es el asteroide que va a una velocidad de ' +str(va) + 'km/s.')\n",
    "elif ta >= 26 and ta <= 999:\n",
    "    print ('¡Advertencia de impacto mayor! se acerca un asteroide con un tamaño de ' +str(ta) + ' metros.')\n",
    "elif va >= 20 and va < 25 and ta <= 25:\n",
    "    print ('¡Voltea al cielo! ese rayo de luz es el asteroide que va a ' +str(va) +'km/s. No hay que preocuparse ya que tiene un tamaño de '+str(ta) +' metros.')\n",
    "elif va > 25 and ta < 26:\n",
    "    print ('¡Cuidado! se acerca un asteroide a una velocidad de ' +str(va) + 'km/s.')\n",
    "else:\n",
    "    print ('¡Todos vamos a moriiiir!')"
   ]
  }
 ],
 "metadata": {
  "interpreter": {
   "hash": "96cd9890feeb6d3562a1a9f6ae301eefaa090fbb68ebc1ef6ed2d043dbbc2cee"
  },
  "kernelspec": {
   "display_name": "Python 3.10.2 64-bit",
   "language": "python",
   "name": "python3"
  },
  "language_info": {
   "codemirror_mode": {
    "name": "ipython",
    "version": 3
   },
   "file_extension": ".py",
   "mimetype": "text/x-python",
   "name": "python",
   "nbconvert_exporter": "python",
   "pygments_lexer": "ipython3",
   "version": "3.10.2"
  },
  "orig_nbformat": 4
 },
 "nbformat": 4,
 "nbformat_minor": 2
}
